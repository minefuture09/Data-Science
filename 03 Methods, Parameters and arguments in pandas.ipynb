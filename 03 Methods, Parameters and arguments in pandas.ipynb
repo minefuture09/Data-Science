{
 "cells": [
  {
   "cell_type": "code",
   "execution_count": 1,
   "metadata": {},
   "outputs": [
    {
     "data": {
      "text/plain": [
       "0    1\n",
       "1    2\n",
       "2    3\n",
       "3    4\n",
       "4    5\n",
       "5    6\n",
       "6    7\n",
       "7    8\n",
       "dtype: int64"
      ]
     },
     "execution_count": 1,
     "metadata": {},
     "output_type": "execute_result"
    }
   ],
   "source": [
    "import pandas as pd \n",
    "\n",
    "\n",
    "rate = [1,2,3,4,5,6,7,8]\n",
    "\n",
    "s = pd.Series(rate)\n",
    "s"
   ]
  },
  {
   "cell_type": "code",
   "execution_count": 7,
   "metadata": {},
   "outputs": [
    {
     "name": "stdout",
     "output_type": "stream",
     "text": [
      "36\n",
      "8\n",
      "1\n",
      "4.5\n",
      "40320\n"
     ]
    }
   ],
   "source": [
    "print(s.sum())\n",
    "print(s.max())\n",
    "print(s.min())\n",
    "print(s.mean())\n",
    "print(s.product())"
   ]
  },
  {
   "cell_type": "code",
   "execution_count": 11,
   "metadata": {},
   "outputs": [
    {
     "name": "stdout",
     "output_type": "stream",
     "text": [
      "mon           apple\n",
      "tue           mango\n",
      "wen     watermellon\n",
      "thur      pineapple\n",
      "fri          grapes\n",
      "dtype: object\n",
      "\\\\\\\\\\\\\\\\\\\\\\\\\\\\\\\\\\\\\\\\\\\\\\\\\n",
      "mon           apple\n",
      "tue           mango\n",
      "wen     watermellon\n",
      "thur      pineapple\n",
      "fri          grapes\n",
      "dtype: object\n"
     ]
    }
   ],
   "source": [
    "fruits = ['apple','mango','watermellon','pineapple','grapes']\n",
    "\n",
    "week = ['mon','tue','wen','thur','fri']\n",
    "\n",
    "print(pd.Series(fruits,week))\n",
    "\n",
    "print(\"\\\\\\\\\\\\\\\\\\\\\\\\\\\\\\\\\\\\\\\\\\\\\\\\\\\\\\\\\\\\\\\\\\\\\\\\\\\\\\\\\\\\\\\\\\\\\\\\\")\n",
    "\n",
    "print(pd.Series(index=week,data=fruits))"
   ]
  }
 ],
 "metadata": {
  "kernelspec": {
   "display_name": "Python 3",
   "language": "python",
   "name": "python3"
  },
  "language_info": {
   "codemirror_mode": {
    "name": "ipython",
    "version": 3
   },
   "file_extension": ".py",
   "mimetype": "text/x-python",
   "name": "python",
   "nbconvert_exporter": "python",
   "pygments_lexer": "ipython3",
   "version": "3.7.1"
  }
 },
 "nbformat": 4,
 "nbformat_minor": 4
}
